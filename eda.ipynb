{
 "cells": [
  {
   "cell_type": "markdown",
   "id": "2cd062c2",
   "metadata": {},
   "source": [
    "Descompresion de datos"
   ]
  },
  {
   "cell_type": "code",
   "execution_count": 1,
   "id": "9b6df42a",
   "metadata": {},
   "outputs": [
    {
     "name": "stdout",
     "output_type": "stream",
     "text": [
      "Carpeta 'datos' creada.\n",
      "Archivos ZIP encontrados: ['estadisticas_normales_9120.zip', 'Registro_temperaturas-05072025.zip']\n",
      "'estadisticas_normales_9120.zip' descomprimido exitosamente en 'datos'.\n",
      "'Registro_temperaturas-05072025.zip' descomprimido exitosamente en 'datos'.\n"
     ]
    }
   ],
   "source": [
    "import zipfile\n",
    "import os\n",
    "\n",
    "def descomprimir_zips_en_datos():\n",
    "    \"\"\"\n",
    "    Descomprime todos los archivos ZIP encontrados en el directorio actual\n",
    "    dentro de una subcarpeta llamada 'datos'.\n",
    "    \"\"\"\n",
    "    carpeta_destino = \"datos\"\n",
    "\n",
    "    # Crear la carpeta 'datos' si no existe\n",
    "    if not os.path.exists(carpeta_destino):\n",
    "        os.makedirs(carpeta_destino)\n",
    "        print(f\"Carpeta '{carpeta_destino}' creada.\")\n",
    "\n",
    "    # Obtener una lista de todos los archivos en el directorio actual\n",
    "    archivos_en_directorio = os.listdir('.')\n",
    "\n",
    "    # Filtrar solo los archivos .zip\n",
    "    archivos_zip = [f for f in archivos_en_directorio if f.endswith('.zip')]\n",
    "\n",
    "    if not archivos_zip:\n",
    "        print(\"No se encontraron archivos ZIP en el directorio actual.\")\n",
    "        return\n",
    "\n",
    "    print(f\"Archivos ZIP encontrados: {archivos_zip}\")\n",
    "\n",
    "    for archivo_zip in archivos_zip:\n",
    "        ruta_completa_zip = os.path.join('.', archivo_zip)\n",
    "        try:\n",
    "            with zipfile.ZipFile(ruta_completa_zip, 'r') as zip_ref:\n",
    "                zip_ref.extractall(os.path.join('.', carpeta_destino))\n",
    "            print(f\"'{archivo_zip}' descomprimido exitosamente en '{carpeta_destino}'.\")\n",
    "        except zipfile.BadZipFile:\n",
    "            print(f\"Error: '{archivo_zip}' no es un archivo ZIP válido o está corrupto.\")\n",
    "        except Exception as e:\n",
    "            print(f\"Ocurrió un error al descomprimir '{archivo_zip}': {e}\")\n",
    "\n",
    "descomprimir_zips_en_datos()"
   ]
  },
  {
   "cell_type": "markdown",
   "id": "cc1a8910",
   "metadata": {},
   "source": []
  },
  {
   "cell_type": "code",
   "execution_count": null,
   "id": "b13734a8",
   "metadata": {},
   "outputs": [
    {
     "name": "stdout",
     "output_type": "stream",
     "text": [
      "Archivo 'Estadísticas normales Datos abiertos 1991-2020.xlsx' cargado exitosamente desde 'datos/'.\n",
      "Primeras 5 filas del DataFrame:\n",
      "                 Estación                           Valor Medio de   Ene  \\\n",
      "0  LA QUIACA OBSERVATORIO                         Temperatura (°C)  13.2   \n",
      "1  LA QUIACA OBSERVATORIO                  Temperatura máxima (°C)  20.6   \n",
      "2  LA QUIACA OBSERVATORIO                  Temperatura mínima (°C)   7.7   \n",
      "3  LA QUIACA OBSERVATORIO                     Humedad relativa (%)  62.6   \n",
      "4  LA QUIACA OBSERVATORIO  Velocidad del Viento (km/h) (2011-2020)   6.5   \n",
      "\n",
      "    Feb   Mar   Abr   May   Jun   Jul   Ago   Sep   Oct   Nov   Dic  \n",
      "0    13  12.8  11.3   7.3   4.8   4.5     7    10  12.4  13.4  13.9  \n",
      "1  20.4  20.6  20.3  17.8  16.3  16.1    18    20  21.7  22.5  22.2  \n",
      "2   7.6   6.6   3.1  -2.5  -5.7  -6.2    -4  -0.4   3.3   5.5   7.3  \n",
      "3  63.2  60.3    46  32.6  27.4  25.7  26.7  32.1  42.4  48.6  55.8  \n",
      "4   6.8   6.7   5.5   4.8   5.5   5.9   6.7   7.9   7.9   7.7   7.1  \n",
      "\n",
      "Información del DataFrame:\n",
      "<class 'pandas.core.frame.DataFrame'>\n",
      "RangeIndex: 784 entries, 0 to 783\n",
      "Data columns (total 14 columns):\n",
      " #   Column          Non-Null Count  Dtype \n",
      "---  ------          --------------  ----- \n",
      " 0   Estación        784 non-null    object\n",
      " 1   Valor Medio de  784 non-null    object\n",
      " 2   Ene             784 non-null    object\n",
      " 3   Feb             784 non-null    object\n",
      " 4   Mar             784 non-null    object\n",
      " 5   Abr             784 non-null    object\n",
      " 6   May             784 non-null    object\n",
      " 7   Jun             784 non-null    object\n",
      " 8   Jul             784 non-null    object\n",
      " 9   Ago             784 non-null    object\n",
      " 10  Sep             784 non-null    object\n",
      " 11  Oct             784 non-null    object\n",
      " 12  Nov             784 non-null    object\n",
      " 13  Dic             784 non-null    object\n",
      "dtypes: object(14)\n",
      "memory usage: 85.9+ KB\n"
     ]
    }
   ],
   "source": [
    "import pandas as pd\n",
    "import os\n",
    "\n",
    "def cargar_excel_desde_datos(nombre_archivo):\n",
    "    \"\"\"\n",
    "    Carga un archivo Excel desde la subcarpeta 'datos'.\n",
    "\n",
    "    Args:\n",
    "        nombre_archivo (str): El nombre completo del archivo Excel a cargar.\n",
    "\n",
    "    Returns:\n",
    "        pd.DataFrame: El DataFrame de pandas con los datos del Excel, o None si hay un error.\n",
    "    \"\"\"\n",
    "    ruta_completa = os.path.join('datos', nombre_archivo)\n",
    "\n",
    "    if not os.path.exists(ruta_completa):\n",
    "        print(f\"Error: El archivo '{ruta_completa}' no se encontró.\")\n",
    "        return None\n",
    "\n",
    "    try:\n",
    "        df = pd.read_excel(ruta_completa, header=4)\n",
    "        print(f\"Archivo '{nombre_archivo}' cargado exitosamente desde 'datos/'.\")\n",
    "        print(\"Primeras 5 filas del DataFrame:\")\n",
    "        print(df.head())\n",
    "        return df\n",
    "    except Exception as e:\n",
    "        print(f\"Ocurrió un error al cargar el archivo Excel: {e}\")\n",
    "        return None\n",
    "    \n",
    "nombre_excel = \"Estadísticas normales Datos abiertos 1991-2020.xlsx\"\n",
    "df = cargar_excel_desde_datos(nombre_excel)\n",
    "\n",
    "if df is not None:\n",
    "    print(\"\\nInformación del DataFrame:\")\n",
    "    df.info()\n",
    "    df.head()\n"
   ]
  },
  {
   "cell_type": "code",
   "execution_count": 7,
   "id": "812d19bb",
   "metadata": {},
   "outputs": [
    {
     "data": {
      "text/plain": [
       "Index(['Estación', 'Valor Medio de', 'Ene', 'Feb', 'Mar', 'Abr', 'May', 'Jun',\n",
       "       'Jul', 'Ago', 'Sep', 'Oct', 'Nov', 'Dic'],\n",
       "      dtype='object')"
      ]
     },
     "execution_count": 7,
     "metadata": {},
     "output_type": "execute_result"
    }
   ],
   "source": [
    "df.describe()\n",
    "df.columns"
   ]
  }
 ],
 "metadata": {
  "kernelspec": {
   "display_name": "eda (3.12.3)",
   "language": "python",
   "name": "python3"
  },
  "language_info": {
   "codemirror_mode": {
    "name": "ipython",
    "version": 3
   },
   "file_extension": ".py",
   "mimetype": "text/x-python",
   "name": "python",
   "nbconvert_exporter": "python",
   "pygments_lexer": "ipython3",
   "version": "3.12.3"
  }
 },
 "nbformat": 4,
 "nbformat_minor": 5
}
